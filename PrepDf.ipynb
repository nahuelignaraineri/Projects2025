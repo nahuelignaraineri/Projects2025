{
 "cells": [
  {
   "cell_type": "code",
   "execution_count": 22,
   "id": "619480ac",
   "metadata": {},
   "outputs": [],
   "source": [
    "import pandas as pd \n",
    "import numpy as np\n"
   ]
  },
  {
   "cell_type": "code",
   "execution_count": 64,
   "id": "0cf8c3b9",
   "metadata": {},
   "outputs": [],
   "source": [
    "df = pd.read_csv(\"AV-410.csv\", sep=\" \", na_values=\"-999.250000\", header=None, on_bad_lines='skip')"
   ]
  },
  {
   "cell_type": "code",
   "execution_count": 65,
   "id": "508e7200",
   "metadata": {},
   "outputs": [],
   "source": [
    "df.rename(columns={1: 'DEPTH', 7: 'GR', 4: \"SP\", 11:\"RES\"}, inplace=True)"
   ]
  },
  {
   "cell_type": "code",
   "execution_count": 66,
   "id": "93d904f3",
   "metadata": {},
   "outputs": [],
   "source": [
    "df2= df[['DEPTH', 'GR', \"SP\", \"RES\"]].copy().astype({'DEPTH': 'float64', 'GR': 'float64','SP': 'float64', \"RES\":\"float64\" }).round(2)"
   ]
  },
  {
   "cell_type": "code",
   "execution_count": 67,
   "id": "c55ea843",
   "metadata": {},
   "outputs": [],
   "source": [
    "df2.dropna(inplace=True)"
   ]
  },
  {
   "cell_type": "code",
   "execution_count": 68,
   "id": "3a0cc7be",
   "metadata": {},
   "outputs": [],
   "source": [
    "# Definir los rangos de profundidad y los nombres de las zonas\n",
    "zonas = [\n",
    "    (0, 1350, 'Zona 1'),\n",
    "    (1450, 1700, 'Zona 2'),\n",
    "    (1700, 2000, 'Zona 3'),\n",
    "    (2000, 2200, 'Zona 4'),\n",
    "    [2200, 2500, 'Zona 5'],\n",
    "]\n",
    "\n",
    "# Crear una función para asignar zonas según el rango de profundidad\n",
    "def asignar_zona(depth):\n",
    "    for inicio, fin, nombre in zonas:\n",
    "        if inicio <= depth < fin:\n",
    "            return nombre\n",
    "    return 'Zona desconocida'\n",
    "\n",
    "# Aplicar la función al DataFrame\n",
    "df2['zonas'] = df2['DEPTH'].apply(asignar_zona)"
   ]
  },
  {
   "cell_type": "code",
   "execution_count": 70,
   "id": "d901686c",
   "metadata": {},
   "outputs": [
    {
     "data": {
      "application/vnd.microsoft.datawrangler.viewer.v0+json": {
       "columns": [
        {
         "name": "index",
         "rawType": "int64",
         "type": "integer"
        },
        {
         "name": "DEPTH",
         "rawType": "float64",
         "type": "float"
        },
        {
         "name": "GR",
         "rawType": "float64",
         "type": "float"
        },
        {
         "name": "SP",
         "rawType": "float64",
         "type": "float"
        },
        {
         "name": "RES",
         "rawType": "float64",
         "type": "float"
        },
        {
         "name": "zonas",
         "rawType": "object",
         "type": "string"
        }
       ],
       "conversionMethod": "pd.DataFrame",
       "ref": "2eb71ef8-ad1e-411a-8281-ba9f7dd16a47",
       "rows": [
        [
         "1201",
         "1201.0",
         "91.89",
         "-3.54",
         "1.35",
         "Zona 1"
        ],
        [
         "1202",
         "1202.0",
         "115.77",
         "-0.09",
         "1.17",
         "Zona 1"
        ],
        [
         "1203",
         "1203.0",
         "105.07",
         "0.0",
         "1.24",
         "Zona 1"
        ],
        [
         "1204",
         "1204.0",
         "105.36",
         "-0.51",
         "1.15",
         "Zona 1"
        ],
        [
         "1205",
         "1205.0",
         "98.56",
         "-9.99",
         "1.93",
         "Zona 1"
        ],
        [
         "1206",
         "1206.0",
         "96.01",
         "-16.04",
         "2.99",
         "Zona 1"
        ],
        [
         "1207",
         "1207.0",
         "125.74",
         "0.25",
         "0.72",
         "Zona 1"
        ],
        [
         "1208",
         "1208.0",
         "137.31",
         "-0.34",
         "0.67",
         "Zona 1"
        ],
        [
         "1209",
         "1209.0",
         "124.54",
         "-0.44",
         "0.83",
         "Zona 1"
        ],
        [
         "1210",
         "1210.0",
         "101.53",
         "-4.31",
         "1.3",
         "Zona 1"
        ],
        [
         "1211",
         "1211.0",
         "100.9",
         "-5.87",
         "1.38",
         "Zona 1"
        ],
        [
         "1212",
         "1212.0",
         "97.62",
         "-9.62",
         "2.0",
         "Zona 1"
        ],
        [
         "1213",
         "1213.0",
         "102.23",
         "-10.98",
         "2.13",
         "Zona 1"
        ],
        [
         "1214",
         "1214.0",
         "104.25",
         "-9.67",
         "1.24",
         "Zona 1"
        ],
        [
         "1215",
         "1215.0",
         "117.14",
         "-0.15",
         "0.79",
         "Zona 1"
        ],
        [
         "1216",
         "1216.0",
         "132.63",
         "0.0",
         "0.64",
         "Zona 1"
        ],
        [
         "1217",
         "1217.0",
         "116.47",
         "0.0",
         "0.72",
         "Zona 1"
        ],
        [
         "1218",
         "1218.0",
         "128.57",
         "-0.71",
         "0.76",
         "Zona 1"
        ],
        [
         "1219",
         "1219.0",
         "119.51",
         "-0.67",
         "0.77",
         "Zona 1"
        ],
        [
         "1220",
         "1220.0",
         "106.6",
         "-0.75",
         "0.84",
         "Zona 1"
        ],
        [
         "1221",
         "1221.0",
         "107.89",
         "-10.86",
         "1.09",
         "Zona 1"
        ],
        [
         "1222",
         "1222.0",
         "105.97",
         "-36.48",
         "3.52",
         "Zona 1"
        ],
        [
         "1223",
         "1223.0",
         "99.57",
         "-32.74",
         "4.01",
         "Zona 1"
        ],
        [
         "1224",
         "1224.0",
         "102.25",
         "-41.67",
         "8.13",
         "Zona 1"
        ],
        [
         "1225",
         "1225.0",
         "96.8",
         "-11.04",
         "1.44",
         "Zona 1"
        ],
        [
         "1226",
         "1226.0",
         "103.01",
         "-0.06",
         "1.2",
         "Zona 1"
        ],
        [
         "1227",
         "1227.0",
         "103.37",
         "-4.54",
         "1.26",
         "Zona 1"
        ],
        [
         "1228",
         "1228.0",
         "106.42",
         "-18.47",
         "2.33",
         "Zona 1"
        ],
        [
         "1229",
         "1229.0",
         "104.09",
         "-16.56",
         "2.97",
         "Zona 1"
        ],
        [
         "1230",
         "1230.0",
         "101.1",
         "-9.16",
         "1.35",
         "Zona 1"
        ],
        [
         "1231",
         "1231.0",
         "137.82",
         "0.02",
         "0.66",
         "Zona 1"
        ],
        [
         "1232",
         "1232.0",
         "128.88",
         "0.37",
         "0.69",
         "Zona 1"
        ],
        [
         "1233",
         "1233.0",
         "106.59",
         "0.15",
         "0.87",
         "Zona 1"
        ],
        [
         "1234",
         "1234.0",
         "106.57",
         "0.0",
         "0.89",
         "Zona 1"
        ],
        [
         "1235",
         "1235.0",
         "118.8",
         "-0.59",
         "0.82",
         "Zona 1"
        ],
        [
         "1236",
         "1236.0",
         "122.56",
         "-1.12",
         "0.92",
         "Zona 1"
        ],
        [
         "1237",
         "1237.0",
         "104.0",
         "-1.0",
         "0.93",
         "Zona 1"
        ],
        [
         "1238",
         "1238.0",
         "137.48",
         "0.0",
         "0.63",
         "Zona 1"
        ],
        [
         "1239",
         "1239.0",
         "133.92",
         "0.03",
         "0.69",
         "Zona 1"
        ],
        [
         "1240",
         "1240.0",
         "135.62",
         "-0.06",
         "0.73",
         "Zona 1"
        ],
        [
         "1241",
         "1241.0",
         "128.44",
         "0.03",
         "0.76",
         "Zona 1"
        ],
        [
         "1242",
         "1242.0",
         "126.69",
         "-0.29",
         "0.77",
         "Zona 1"
        ],
        [
         "1243",
         "1243.0",
         "118.7",
         "0.0",
         "0.75",
         "Zona 1"
        ],
        [
         "1244",
         "1244.0",
         "103.58",
         "-1.52",
         "1.0",
         "Zona 1"
        ],
        [
         "1245",
         "1245.0",
         "116.75",
         "-1.77",
         "1.01",
         "Zona 1"
        ],
        [
         "1246",
         "1246.0",
         "113.47",
         "-1.1",
         "0.87",
         "Zona 1"
        ],
        [
         "1247",
         "1247.0",
         "77.51",
         "-1.89",
         "1.25",
         "Zona 1"
        ],
        [
         "1248",
         "1248.0",
         "103.61",
         "-0.15",
         "0.86",
         "Zona 1"
        ],
        [
         "1249",
         "1249.0",
         "115.09",
         "0.05",
         "0.79",
         "Zona 1"
        ],
        [
         "1250",
         "1250.0",
         "105.51",
         "-0.82",
         "0.93",
         "Zona 1"
        ]
       ],
       "shape": {
        "columns": 5,
        "rows": 1114
       }
      },
      "text/html": [
       "<div>\n",
       "<style scoped>\n",
       "    .dataframe tbody tr th:only-of-type {\n",
       "        vertical-align: middle;\n",
       "    }\n",
       "\n",
       "    .dataframe tbody tr th {\n",
       "        vertical-align: top;\n",
       "    }\n",
       "\n",
       "    .dataframe thead th {\n",
       "        text-align: right;\n",
       "    }\n",
       "</style>\n",
       "<table border=\"1\" class=\"dataframe\">\n",
       "  <thead>\n",
       "    <tr style=\"text-align: right;\">\n",
       "      <th></th>\n",
       "      <th>DEPTH</th>\n",
       "      <th>GR</th>\n",
       "      <th>SP</th>\n",
       "      <th>RES</th>\n",
       "      <th>zonas</th>\n",
       "    </tr>\n",
       "  </thead>\n",
       "  <tbody>\n",
       "    <tr>\n",
       "      <th>1201</th>\n",
       "      <td>1201.0</td>\n",
       "      <td>91.89</td>\n",
       "      <td>-3.54</td>\n",
       "      <td>1.35</td>\n",
       "      <td>Zona 1</td>\n",
       "    </tr>\n",
       "    <tr>\n",
       "      <th>1202</th>\n",
       "      <td>1202.0</td>\n",
       "      <td>115.77</td>\n",
       "      <td>-0.09</td>\n",
       "      <td>1.17</td>\n",
       "      <td>Zona 1</td>\n",
       "    </tr>\n",
       "    <tr>\n",
       "      <th>1203</th>\n",
       "      <td>1203.0</td>\n",
       "      <td>105.07</td>\n",
       "      <td>0.00</td>\n",
       "      <td>1.24</td>\n",
       "      <td>Zona 1</td>\n",
       "    </tr>\n",
       "    <tr>\n",
       "      <th>1204</th>\n",
       "      <td>1204.0</td>\n",
       "      <td>105.36</td>\n",
       "      <td>-0.51</td>\n",
       "      <td>1.15</td>\n",
       "      <td>Zona 1</td>\n",
       "    </tr>\n",
       "    <tr>\n",
       "      <th>1205</th>\n",
       "      <td>1205.0</td>\n",
       "      <td>98.56</td>\n",
       "      <td>-9.99</td>\n",
       "      <td>1.93</td>\n",
       "      <td>Zona 1</td>\n",
       "    </tr>\n",
       "    <tr>\n",
       "      <th>...</th>\n",
       "      <td>...</td>\n",
       "      <td>...</td>\n",
       "      <td>...</td>\n",
       "      <td>...</td>\n",
       "      <td>...</td>\n",
       "    </tr>\n",
       "    <tr>\n",
       "      <th>2310</th>\n",
       "      <td>2310.0</td>\n",
       "      <td>68.80</td>\n",
       "      <td>0.19</td>\n",
       "      <td>13.73</td>\n",
       "      <td>Zona 5</td>\n",
       "    </tr>\n",
       "    <tr>\n",
       "      <th>2311</th>\n",
       "      <td>2311.0</td>\n",
       "      <td>68.80</td>\n",
       "      <td>-0.00</td>\n",
       "      <td>13.73</td>\n",
       "      <td>Zona 5</td>\n",
       "    </tr>\n",
       "    <tr>\n",
       "      <th>2312</th>\n",
       "      <td>2312.0</td>\n",
       "      <td>68.80</td>\n",
       "      <td>-0.19</td>\n",
       "      <td>13.73</td>\n",
       "      <td>Zona 5</td>\n",
       "    </tr>\n",
       "    <tr>\n",
       "      <th>2313</th>\n",
       "      <td>2313.0</td>\n",
       "      <td>68.80</td>\n",
       "      <td>-0.38</td>\n",
       "      <td>13.73</td>\n",
       "      <td>Zona 5</td>\n",
       "    </tr>\n",
       "    <tr>\n",
       "      <th>2314</th>\n",
       "      <td>2314.0</td>\n",
       "      <td>68.80</td>\n",
       "      <td>-0.57</td>\n",
       "      <td>13.73</td>\n",
       "      <td>Zona 5</td>\n",
       "    </tr>\n",
       "  </tbody>\n",
       "</table>\n",
       "<p>1114 rows × 5 columns</p>\n",
       "</div>"
      ],
      "text/plain": [
       "       DEPTH      GR    SP    RES   zonas\n",
       "1201  1201.0   91.89 -3.54   1.35  Zona 1\n",
       "1202  1202.0  115.77 -0.09   1.17  Zona 1\n",
       "1203  1203.0  105.07  0.00   1.24  Zona 1\n",
       "1204  1204.0  105.36 -0.51   1.15  Zona 1\n",
       "1205  1205.0   98.56 -9.99   1.93  Zona 1\n",
       "...      ...     ...   ...    ...     ...\n",
       "2310  2310.0   68.80  0.19  13.73  Zona 5\n",
       "2311  2311.0   68.80 -0.00  13.73  Zona 5\n",
       "2312  2312.0   68.80 -0.19  13.73  Zona 5\n",
       "2313  2313.0   68.80 -0.38  13.73  Zona 5\n",
       "2314  2314.0   68.80 -0.57  13.73  Zona 5\n",
       "\n",
       "[1114 rows x 5 columns]"
      ]
     },
     "execution_count": 70,
     "metadata": {},
     "output_type": "execute_result"
    }
   ],
   "source": [
    "df2"
   ]
  },
  {
   "cell_type": "code",
   "execution_count": 73,
   "id": "a2077d8d",
   "metadata": {},
   "outputs": [],
   "source": [
    "df3 = df2[df2[\"zonas\"] == \"Zona 4\"]"
   ]
  },
  {
   "cell_type": "code",
   "execution_count": 74,
   "id": "9e06f392",
   "metadata": {},
   "outputs": [],
   "source": [
    "df3.to_csv(\"prueba.csv\", index=False)"
   ]
  },
  {
   "cell_type": "code",
   "execution_count": null,
   "id": "c83ebe63",
   "metadata": {},
   "outputs": [],
   "source": []
  }
 ],
 "metadata": {
  "kernelspec": {
   "display_name": "Python 3",
   "language": "python",
   "name": "python3"
  },
  "language_info": {
   "codemirror_mode": {
    "name": "ipython",
    "version": 3
   },
   "file_extension": ".py",
   "mimetype": "text/x-python",
   "name": "python",
   "nbconvert_exporter": "python",
   "pygments_lexer": "ipython3",
   "version": "3.11.9"
  }
 },
 "nbformat": 4,
 "nbformat_minor": 5
}
